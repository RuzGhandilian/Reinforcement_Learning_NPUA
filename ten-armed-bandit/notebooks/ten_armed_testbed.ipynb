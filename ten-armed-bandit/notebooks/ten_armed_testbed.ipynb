{
 "cells": [
  {
   "cell_type": "markdown",
   "source": [
    "# 10-armed Testbed"
   ],
   "metadata": {
    "collapsed": false
   },
   "id": "cada6500ddd403c4"
  },
  {
   "metadata": {
    "ExecuteTime": {
     "end_time": "2025-03-01T09:47:50.041535Z",
     "start_time": "2025-03-01T09:47:50.038177Z"
    }
   },
   "cell_type": "code",
   "source": [
    "import numpy as np\n",
    "from tqdm import trange\n",
    "import matplotlib\n",
    "import matplotlib.pyplot as plt\n",
    "import os\n",
    "\n",
    "# Import the Bandit module\n",
    "from banditt import Bandit\n",
    "\n",
    "# Use 'Agg' backend for headless environments\n",
    "matplotlib.use('Agg')"
   ],
   "id": "1dcff3c32bd41dbd",
   "outputs": [],
   "execution_count": 2
  },
  {
   "cell_type": "code",
   "source": [
    "def simulate(runs, times, bandits):\n",
    "    # region Summary\n",
    "    \"\"\"\n",
    "    For any learning method, we can measure its performance and behavior as it improves with experience over 1000 time steps \n",
    "    when applied to 1 of the bandit problems. This makes up 1 run. Repeating this for 2000 independent runs, each with a different \n",
    "    bandit problem, we obtained measures of the learning algorithm’s average behavior.\n",
    "    :param runs: Number of runs\n",
    "    :param times: Number of times\n",
    "    :param bandits: Bandit problems\n",
    "    :return: Optimal action count mean and reward mean\n",
    "    \"\"\"\n",
    "    # endregion Summary\n",
    "    \n",
    "    # region Body\n",
    "    \n",
    "    # Prepare a matrix filled with 0s for rewards\n",
    "    rewards = np.zeros((len(bandits),runs, times))\n",
    "    \n",
    "    # Prepare a matrix filled with 0s for optimal action counts that has the same shape as rewards matrix\n",
    "    optimal_actions = np.zeros(rewards.shape)\n",
    "\n",
    "    # For every bandit\n",
    "    for i, bandit in enumerate(bandits):\n",
    "        # for every run\n",
    "        for run in trange(runs):\n",
    "            # initialize bandit\n",
    "            bandit.initialize()\n",
    "            \n",
    "            # for every time step\n",
    "            for time in trange(times):\n",
    "            \n",
    "                # select an action\n",
    "                action = bandit.act()\n",
    "                \n",
    "                # get the reward\n",
    "                rewards[i, run, time] = bandit.step(action)\n",
    "                \n",
    "                # if the selected action is optimal for bandit\n",
    "                if action == bandit.optimal_action:\n",
    "                \n",
    "                    # change the corresponding 0 in the optimal action counts matrix to 1\n",
    "                    optimal_actions[i, run, time] = 1\n",
    "\n",
    "    return optimal_actions.mean(axis=1), rewards.mean(axis=1)\n",
    "\n",
    "    # endregion Body"
   ],
   "metadata": {
    "collapsed": false,
    "ExecuteTime": {
     "end_time": "2025-03-01T09:47:50.497131Z",
     "start_time": "2025-03-01T09:47:50.491125Z"
    }
   },
   "id": "be09fd89ebd40d84",
   "outputs": [],
   "execution_count": 3
  },
  {
   "cell_type": "markdown",
   "source": [
    "## 1. Reward Distribution"
   ],
   "metadata": {
    "collapsed": false
   },
   "id": "4088366f60e51478"
  },
  {
   "cell_type": "code",
   "source": [
    "# Generate example reward distributions\n",
    "np.random.seed(42)\n",
    "dataset = np.random.randn(200, 10) + np.random.randn(10)\n",
    "\n",
    "# Ensure directory exists\n",
    "os.makedirs(\"../generated_images\", exist_ok=True)\n",
    "\n",
    "# Plot and save\n",
    "plt.violinplot(dataset, showmeans=True, showmedians=True)\n",
    "plt.title(\"Figure 2.1\")\n",
    "plt.xlabel(\"Action\")\n",
    "plt.ylabel(\"Reward distribution\")\n",
    "plt.savefig(\"../generated_images/figure_2_1.png\")\n",
    "plt.close()\n",
    "\n",
    "# Print success message\n",
    "print(\"Plot saved successfully at: ../generated_images/figure_2_1.png\")"
   ],
   "metadata": {
    "collapsed": false,
    "ExecuteTime": {
     "end_time": "2025-03-01T09:47:50.649999Z",
     "start_time": "2025-03-01T09:47:50.503641Z"
    }
   },
   "id": "8ed1daafa4064440",
   "outputs": [
    {
     "name": "stdout",
     "output_type": "stream",
     "text": [
      "Plot saved successfully at: ../generated_images/figure_2_1.png\n"
     ]
    }
   ],
   "execution_count": 4
  },
  {
   "metadata": {},
   "cell_type": "markdown",
   "source": "",
   "id": "e8ec2e54eac562c8"
  },
  {
   "cell_type": "markdown",
   "source": [
    "## 2. Greedy Action Selection VS ε-greedy Action Selection"
   ],
   "metadata": {
    "collapsed": false
   },
   "id": "ef67eb7574c5d2b1"
  },
  {
   "cell_type": "code",
   "source": [
    "# Create a list of epsilons with 0, 0.1, and 0.01 values\n",
    "epsilons = [0, 0.1, 0.01]\n",
    "\n",
    "# Create a list of bandits (1 bandit for every epsilon) where every bandit uses the sample-average method\n",
    "bandits = [Bandit(epsilon=e, use_sample_averages=True) for e in epsilons]"
   ],
   "metadata": {
    "collapsed": false,
    "ExecuteTime": {
     "end_time": "2025-03-01T09:47:50.718570Z",
     "start_time": "2025-03-01T09:47:50.712572Z"
    }
   },
   "id": "6a180bc790c31e65",
   "outputs": [],
   "execution_count": 5
  },
  {
   "cell_type": "code",
   "source": [
    "# Define number of runs\n",
    "runs = 5000\n",
    "\n",
    "# Define number of times\n",
    "times = 10000\n",
    "\n",
    "# Simulate optimal action counts and rewards\n",
    "optimal_actions_mean, rewards_mean = simulate(runs, times, bandits)\n",
    "\n",
    "print(\"Optimal Actions Mean:\", optimal_actions_mean)\n",
    "print(\"Rewards Mean:\", rewards_mean)"
   ],
   "metadata": {
    "collapsed": false,
    "ExecuteTime": {
     "end_time": "2025-03-01T09:48:04.635065Z",
     "start_time": "2025-03-01T09:47:50.732446Z"
    }
   },
   "id": "683805477a8d4606",
   "outputs": [
    {
     "name": "stderr",
     "output_type": "stream",
     "text": [
      "  0%|          | 0/5000 [00:00<?, ?it/s]\n",
      "  0%|          | 0/10000 [00:00<?, ?it/s]\u001B[A\n",
      "100%|██████████| 10000/10000 [00:00<00:00, 84355.26it/s][A\n",
      "  0%|          | 1/5000 [00:00<10:02,  8.30it/s]\n",
      "  0%|          | 0/10000 [00:00<?, ?it/s]\u001B[A\n",
      "100%|██████████| 10000/10000 [00:00<00:00, 63878.84it/s][A\n",
      "  0%|          | 2/5000 [00:00<11:57,  6.97it/s]\n",
      "  0%|          | 0/10000 [00:00<?, ?it/s]\u001B[A\n",
      "100%|██████████| 10000/10000 [00:00<00:00, 79351.16it/s][A\n",
      "  0%|          | 3/5000 [00:00<11:21,  7.33it/s]\n",
      "  0%|          | 0/10000 [00:00<?, ?it/s]\u001B[A\n",
      "100%|██████████| 10000/10000 [00:00<00:00, 91258.29it/s][A\n",
      "  0%|          | 4/5000 [00:00<10:34,  7.87it/s]\n",
      "  0%|          | 0/10000 [00:00<?, ?it/s]\u001B[A\n",
      "100%|██████████| 10000/10000 [00:00<00:00, 78081.79it/s][A\n",
      "  0%|          | 5/5000 [00:00<10:41,  7.78it/s]\n",
      "  0%|          | 0/10000 [00:00<?, ?it/s]\u001B[A\n",
      "100%|██████████| 10000/10000 [00:00<00:00, 78562.82it/s][A\n",
      "  0%|          | 6/5000 [00:00<10:44,  7.75it/s]\n",
      "  0%|          | 0/10000 [00:00<?, ?it/s]\u001B[A\n",
      "100%|██████████| 10000/10000 [00:00<00:00, 74286.88it/s][A\n",
      "  0%|          | 7/5000 [00:00<10:56,  7.60it/s]\n",
      "  0%|          | 0/10000 [00:00<?, ?it/s]\u001B[A\n",
      "100%|██████████| 10000/10000 [00:00<00:00, 81299.30it/s][A\n",
      "  0%|          | 8/5000 [00:01<10:47,  7.70it/s]\n",
      "  0%|          | 0/10000 [00:00<?, ?it/s]\u001B[A\n",
      "100%|██████████| 10000/10000 [00:00<00:00, 61995.48it/s][A\n",
      "  0%|          | 9/5000 [00:01<11:41,  7.11it/s]\n",
      "  0%|          | 0/10000 [00:00<?, ?it/s]\u001B[A\n",
      "100%|██████████| 10000/10000 [00:00<00:00, 72673.44it/s][A\n",
      "  0%|          | 10/5000 [00:01<11:41,  7.11it/s]\n",
      "  0%|          | 0/10000 [00:00<?, ?it/s]\u001B[A\n",
      "100%|██████████| 10000/10000 [00:00<00:00, 65539.79it/s][A\n",
      "  0%|          | 11/5000 [00:01<12:02,  6.90it/s]\n",
      "  0%|          | 0/10000 [00:00<?, ?it/s]\u001B[A\n",
      "100%|██████████| 10000/10000 [00:00<00:00, 87832.94it/s][A\n",
      "  0%|          | 12/5000 [00:01<11:20,  7.33it/s]\n",
      "  0%|          | 0/10000 [00:00<?, ?it/s]\u001B[A\n",
      "100%|██████████| 10000/10000 [00:00<00:00, 59868.34it/s][A\n",
      "  0%|          | 13/5000 [00:01<12:12,  6.81it/s]\n",
      "  0%|          | 0/10000 [00:00<?, ?it/s]\u001B[A\n",
      "100%|██████████| 10000/10000 [00:00<00:00, 78401.87it/s][A\n",
      "  0%|          | 14/5000 [00:01<11:46,  7.06it/s]\n",
      "  0%|          | 0/10000 [00:00<?, ?it/s]\u001B[A\n",
      "100%|██████████| 10000/10000 [00:00<00:00, 62026.65it/s][A\n",
      "  0%|          | 15/5000 [00:02<12:18,  6.75it/s]\n",
      "  0%|          | 0/10000 [00:00<?, ?it/s]\u001B[A\n",
      "100%|██████████| 10000/10000 [00:00<00:00, 72731.54it/s][A\n",
      "  0%|          | 16/5000 [00:02<12:05,  6.87it/s]\n",
      "  0%|          | 0/10000 [00:00<?, ?it/s]\u001B[A\n",
      "100%|██████████| 10000/10000 [00:00<00:00, 63080.21it/s][A\n",
      "  0%|          | 17/5000 [00:02<12:29,  6.65it/s]\n",
      "  0%|          | 0/10000 [00:00<?, ?it/s]\u001B[A\n",
      "100%|██████████| 10000/10000 [00:00<00:00, 71124.74it/s][A\n",
      "  0%|          | 18/5000 [00:02<12:18,  6.74it/s]\n",
      "  0%|          | 0/10000 [00:00<?, ?it/s]\u001B[A\n",
      "100%|██████████| 10000/10000 [00:00<00:00, 75414.88it/s][A\n",
      "  0%|          | 19/5000 [00:02<11:58,  6.93it/s]\n",
      "  0%|          | 0/10000 [00:00<?, ?it/s]\u001B[A\n",
      "100%|██████████| 10000/10000 [00:00<00:00, 86558.31it/s][A\n",
      "  0%|          | 20/5000 [00:02<11:19,  7.33it/s]\n",
      "  0%|          | 0/10000 [00:00<?, ?it/s]\u001B[A\n",
      "100%|██████████| 10000/10000 [00:00<00:00, 61865.26it/s][A\n",
      "  0%|          | 21/5000 [00:02<11:58,  6.93it/s]\n",
      "  0%|          | 0/10000 [00:00<?, ?it/s]\u001B[A\n",
      "100%|██████████| 10000/10000 [00:00<00:00, 75750.75it/s][A\n",
      "  0%|          | 22/5000 [00:03<11:43,  7.08it/s]\n",
      "  0%|          | 0/10000 [00:00<?, ?it/s]\u001B[A\n",
      "100%|██████████| 10000/10000 [00:00<00:00, 78784.77it/s][A\n",
      "  0%|          | 23/5000 [00:03<11:24,  7.27it/s]\n",
      "  0%|          | 0/10000 [00:00<?, ?it/s]\u001B[A\n",
      "100%|██████████| 10000/10000 [00:00<00:00, 82153.14it/s][A\n",
      "  0%|          | 24/5000 [00:03<11:06,  7.46it/s]\n",
      "  0%|          | 0/10000 [00:00<?, ?it/s]\u001B[A\n",
      "100%|██████████| 10000/10000 [00:00<00:00, 88374.63it/s][A\n",
      "  0%|          | 25/5000 [00:03<10:38,  7.79it/s]\n",
      "  0%|          | 0/10000 [00:00<?, ?it/s]\u001B[A\n",
      "100%|██████████| 10000/10000 [00:00<00:00, 69034.31it/s][A\n",
      "  1%|          | 26/5000 [00:03<11:07,  7.45it/s]\n",
      "  0%|          | 0/10000 [00:00<?, ?it/s]\u001B[A\n",
      "100%|██████████| 10000/10000 [00:00<00:00, 61628.74it/s][A\n",
      "  1%|          | 27/5000 [00:03<11:51,  6.98it/s]\n",
      "  0%|          | 0/10000 [00:00<?, ?it/s]\u001B[A\n",
      "100%|██████████| 10000/10000 [00:00<00:00, 83536.90it/s][A\n",
      "  1%|          | 28/5000 [00:03<11:21,  7.30it/s]\n",
      "  0%|          | 0/10000 [00:00<?, ?it/s]\u001B[A\n",
      "100%|██████████| 10000/10000 [00:00<00:00, 73241.72it/s][A\n",
      "  1%|          | 29/5000 [00:04<11:24,  7.26it/s]\n",
      "  0%|          | 0/10000 [00:00<?, ?it/s]\u001B[A\n",
      "100%|██████████| 10000/10000 [00:00<00:00, 60421.25it/s][A\n",
      "  1%|          | 30/5000 [00:04<12:09,  6.82it/s]\n",
      "  0%|          | 0/10000 [00:00<?, ?it/s]\u001B[A\n",
      "100%|██████████| 10000/10000 [00:00<00:00, 76604.65it/s][A\n",
      "  1%|          | 31/5000 [00:04<11:49,  7.01it/s]\n",
      "  0%|          | 0/10000 [00:00<?, ?it/s]\u001B[A\n",
      "100%|██████████| 10000/10000 [00:00<00:00, 60416.72it/s][A\n",
      "  1%|          | 32/5000 [00:04<12:27,  6.65it/s]\n",
      "  0%|          | 0/10000 [00:00<?, ?it/s]\u001B[A\n",
      "100%|██████████| 10000/10000 [00:00<00:00, 58252.68it/s][A\n",
      "  1%|          | 33/5000 [00:04<13:04,  6.33it/s]\n",
      "  0%|          | 0/10000 [00:00<?, ?it/s]\u001B[A\n",
      "100%|██████████| 10000/10000 [00:00<00:00, 66214.70it/s][A\n",
      "  1%|          | 34/5000 [00:04<12:58,  6.38it/s]\n",
      "  0%|          | 0/10000 [00:00<?, ?it/s]\u001B[A\n",
      "100%|██████████| 10000/10000 [00:00<00:00, 56671.05it/s][A\n",
      "  1%|          | 35/5000 [00:05<13:32,  6.11it/s]\n",
      "  0%|          | 0/10000 [00:00<?, ?it/s]\u001B[A\n",
      "100%|██████████| 10000/10000 [00:00<00:00, 55856.13it/s][A\n",
      "  1%|          | 36/5000 [00:05<13:59,  5.91it/s]\n",
      "  0%|          | 0/10000 [00:00<?, ?it/s]\u001B[A\n",
      "100%|██████████| 10000/10000 [00:00<00:00, 74339.68it/s][A\n",
      "  1%|          | 37/5000 [00:05<13:10,  6.28it/s]\n",
      "  0%|          | 0/10000 [00:00<?, ?it/s]\u001B[A\n",
      "100%|██████████| 10000/10000 [00:00<00:00, 77798.21it/s][A\n",
      "  1%|          | 38/5000 [00:05<12:27,  6.64it/s]\n",
      "  0%|          | 0/10000 [00:00<?, ?it/s]\u001B[A\n",
      "100%|██████████| 10000/10000 [00:00<00:00, 58282.47it/s][A\n",
      "  1%|          | 39/5000 [00:05<13:02,  6.34it/s]\n",
      "  0%|          | 0/10000 [00:00<?, ?it/s]\u001B[A\n",
      "100%|██████████| 10000/10000 [00:00<00:00, 62479.30it/s][A\n",
      "  1%|          | 40/5000 [00:05<13:10,  6.28it/s]\n",
      "  0%|          | 0/10000 [00:00<?, ?it/s]\u001B[A\n",
      "100%|██████████| 10000/10000 [00:00<00:00, 71496.95it/s][A\n",
      "  1%|          | 41/5000 [00:05<12:44,  6.49it/s]\n",
      "  0%|          | 0/10000 [00:00<?, ?it/s]\u001B[A\n",
      "100%|██████████| 10000/10000 [00:00<00:00, 53467.34it/s][A\n",
      "  1%|          | 42/5000 [00:06<13:37,  6.07it/s]\n",
      "  0%|          | 0/10000 [00:00<?, ?it/s]\u001B[A\n",
      "100%|██████████| 10000/10000 [00:00<00:00, 52486.60it/s][A\n",
      "  1%|          | 43/5000 [00:06<14:18,  5.77it/s]\n",
      "  0%|          | 0/10000 [00:00<?, ?it/s]\u001B[A\n",
      "100%|██████████| 10000/10000 [00:00<00:00, 83639.34it/s][A\n",
      "  1%|          | 44/5000 [00:06<13:06,  6.30it/s]\n",
      "  0%|          | 0/10000 [00:00<?, ?it/s]\u001B[A\n",
      "100%|██████████| 10000/10000 [00:00<00:00, 71262.74it/s][A\n",
      "  1%|          | 45/5000 [00:06<12:42,  6.50it/s]\n",
      "  0%|          | 0/10000 [00:00<?, ?it/s]\u001B[A\n",
      "100%|██████████| 10000/10000 [00:00<00:00, 69678.03it/s][A\n",
      "  1%|          | 46/5000 [00:06<12:29,  6.61it/s]\n",
      "  0%|          | 0/10000 [00:00<?, ?it/s]\u001B[A\n",
      "100%|██████████| 10000/10000 [00:00<00:00, 74617.54it/s][A\n",
      "  1%|          | 47/5000 [00:06<12:08,  6.80it/s]\n",
      "  0%|          | 0/10000 [00:00<?, ?it/s]\u001B[A\n",
      "100%|██████████| 10000/10000 [00:00<00:00, 71804.66it/s][A\n",
      "  1%|          | 48/5000 [00:07<11:59,  6.88it/s]\n",
      "  0%|          | 0/10000 [00:00<?, ?it/s]\u001B[A\n",
      "100%|██████████| 10000/10000 [00:00<00:00, 55747.07it/s][A\n",
      "  1%|          | 49/5000 [00:07<12:52,  6.41it/s]\n",
      "  0%|          | 0/10000 [00:00<?, ?it/s]\u001B[A\n",
      "100%|██████████| 10000/10000 [00:00<00:00, 83993.42it/s][A\n",
      "  1%|          | 50/5000 [00:07<12:00,  6.87it/s]\n",
      "  0%|          | 0/10000 [00:00<?, ?it/s]\u001B[A\n",
      "100%|██████████| 10000/10000 [00:00<00:00, 81484.25it/s][A\n",
      "  1%|          | 51/5000 [00:07<11:32,  7.15it/s]\n",
      "  0%|          | 0/10000 [00:00<?, ?it/s]\u001B[A\n",
      "100%|██████████| 10000/10000 [00:00<00:00, 80117.67it/s][A\n",
      "  1%|          | 52/5000 [00:07<11:14,  7.34it/s]\n",
      "  0%|          | 0/10000 [00:00<?, ?it/s]\u001B[A\n",
      "100%|██████████| 10000/10000 [00:00<00:00, 73854.30it/s][A\n",
      "  1%|          | 53/5000 [00:07<11:15,  7.32it/s]\n",
      "  0%|          | 0/10000 [00:00<?, ?it/s]\u001B[A\n",
      "100%|██████████| 10000/10000 [00:00<00:00, 73819.73it/s][A\n",
      "  1%|          | 54/5000 [00:07<11:17,  7.31it/s]\n",
      "  0%|          | 0/10000 [00:00<?, ?it/s]\u001B[A\n",
      "100%|██████████| 10000/10000 [00:00<00:00, 79392.47it/s][A\n",
      "  1%|          | 55/5000 [00:07<11:03,  7.45it/s]\n",
      "  0%|          | 0/10000 [00:00<?, ?it/s]\u001B[A\n",
      "100%|██████████| 10000/10000 [00:00<00:00, 87744.74it/s][A\n",
      "  1%|          | 56/5000 [00:08<10:36,  7.77it/s]\n",
      "  0%|          | 0/10000 [00:00<?, ?it/s]\u001B[A\n",
      "100%|██████████| 10000/10000 [00:00<00:00, 83282.28it/s][A\n",
      "  1%|          | 57/5000 [00:08<10:27,  7.87it/s]\n",
      "  0%|          | 0/10000 [00:00<?, ?it/s]\u001B[A\n",
      "100%|██████████| 10000/10000 [00:00<00:00, 76607.03it/s][A\n",
      "  1%|          | 58/5000 [00:08<10:35,  7.77it/s]\n",
      "  0%|          | 0/10000 [00:00<?, ?it/s]\u001B[A\n",
      "100%|██████████| 10000/10000 [00:00<00:00, 94206.39it/s][A\n",
      "  1%|          | 59/5000 [00:08<10:05,  8.16it/s]\n",
      "  0%|          | 0/10000 [00:00<?, ?it/s]\u001B[A\n",
      "100%|██████████| 10000/10000 [00:00<00:00, 82923.01it/s][A\n",
      "  1%|          | 60/5000 [00:08<10:05,  8.16it/s]\n",
      "  0%|          | 0/10000 [00:00<?, ?it/s]\u001B[A\n",
      "100%|██████████| 10000/10000 [00:00<00:00, 81922.40it/s][A\n",
      "  1%|          | 61/5000 [00:08<10:08,  8.12it/s]\n",
      "  0%|          | 0/10000 [00:00<?, ?it/s]\u001B[A\n",
      "100%|██████████| 10000/10000 [00:00<00:00, 87023.27it/s][A\n",
      "  1%|          | 62/5000 [00:08<09:58,  8.25it/s]\n",
      "  0%|          | 0/10000 [00:00<?, ?it/s]\u001B[A\n",
      "100%|██████████| 10000/10000 [00:00<00:00, 73784.92it/s][A\n",
      "  1%|▏         | 63/5000 [00:08<10:22,  7.93it/s]\n",
      "  0%|          | 0/10000 [00:00<?, ?it/s]\u001B[A\n",
      "100%|██████████| 10000/10000 [00:00<00:00, 74341.52it/s][A\n",
      "  1%|▏         | 64/5000 [00:09<10:38,  7.74it/s]\n",
      "  0%|          | 0/10000 [00:00<?, ?it/s]\u001B[A\n",
      "100%|██████████| 10000/10000 [00:00<00:00, 94332.24it/s][A\n",
      "  1%|▏         | 65/5000 [00:09<10:07,  8.12it/s]\n",
      "  0%|          | 0/10000 [00:00<?, ?it/s]\u001B[A\n",
      "100%|██████████| 10000/10000 [00:00<00:00, 85064.74it/s][A\n",
      "  1%|▏         | 66/5000 [00:09<10:05,  8.15it/s]\n",
      "  0%|          | 0/10000 [00:00<?, ?it/s]\u001B[A\n",
      "100%|██████████| 10000/10000 [00:00<00:00, 69847.44it/s][A\n",
      "  1%|▏         | 67/5000 [00:09<10:38,  7.73it/s]\n",
      "  0%|          | 0/10000 [00:00<?, ?it/s]\u001B[A\n",
      "100%|██████████| 10000/10000 [00:00<00:00, 94989.82it/s][A\n",
      "  1%|▏         | 68/5000 [00:09<10:06,  8.13it/s]\n",
      "  0%|          | 0/10000 [00:00<?, ?it/s]\u001B[A\n",
      "100%|██████████| 10000/10000 [00:00<00:00, 77083.32it/s][A\n",
      "  1%|▏         | 69/5000 [00:09<10:17,  7.98it/s]\n",
      "  0%|          | 0/10000 [00:00<?, ?it/s]\u001B[A\n",
      "100%|██████████| 10000/10000 [00:00<00:00, 91042.97it/s][A\n",
      "  1%|▏         | 70/5000 [00:09<09:57,  8.25it/s]\n",
      "  0%|          | 0/10000 [00:00<?, ?it/s]\u001B[A\n",
      "100%|██████████| 10000/10000 [00:00<00:00, 88091.76it/s][A\n",
      "  1%|▏         | 71/5000 [00:09<09:49,  8.37it/s]\n",
      "  0%|          | 0/10000 [00:00<?, ?it/s]\u001B[A\n",
      "100%|██████████| 10000/10000 [00:00<00:00, 96499.09it/s][A\n",
      "  1%|▏         | 72/5000 [00:10<09:29,  8.65it/s]\n",
      "  0%|          | 0/10000 [00:00<?, ?it/s]\u001B[A\n",
      "100%|██████████| 10000/10000 [00:00<00:00, 94329.70it/s][A\n",
      "  1%|▏         | 73/5000 [00:10<09:18,  8.82it/s]\n",
      "  0%|          | 0/10000 [00:00<?, ?it/s]\u001B[A\n",
      "100%|██████████| 10000/10000 [00:00<00:00, 81525.11it/s][A\n",
      "  1%|▏         | 74/5000 [00:10<09:36,  8.54it/s]\n",
      "  0%|          | 0/10000 [00:00<?, ?it/s]\u001B[A\n",
      "100%|██████████| 10000/10000 [00:00<00:00, 88439.66it/s][A\n",
      "  2%|▏         | 75/5000 [00:10<09:33,  8.59it/s]\n",
      "  0%|          | 0/10000 [00:00<?, ?it/s]\u001B[A\n",
      "100%|██████████| 10000/10000 [00:00<00:00, 85455.90it/s][A\n",
      "  2%|▏         | 76/5000 [00:10<09:37,  8.53it/s]\n",
      "  0%|          | 0/10000 [00:00<?, ?it/s]\u001B[A\n",
      "100%|██████████| 10000/10000 [00:00<00:00, 93876.62it/s][A\n",
      "  2%|▏         | 77/5000 [00:10<09:24,  8.72it/s]\n",
      "  0%|          | 0/10000 [00:00<?, ?it/s]\u001B[A\n",
      "100%|██████████| 10000/10000 [00:00<00:00, 75460.87it/s][A\n",
      "  2%|▏         | 78/5000 [00:10<09:55,  8.27it/s]\n",
      "  0%|          | 0/10000 [00:00<?, ?it/s]\u001B[A\n",
      "100%|██████████| 10000/10000 [00:00<00:00, 92570.49it/s][A\n",
      "  2%|▏         | 79/5000 [00:10<09:41,  8.46it/s]\n",
      "  0%|          | 0/10000 [00:00<?, ?it/s]\u001B[A\n",
      "100%|██████████| 10000/10000 [00:00<00:00, 78661.83it/s][A\n",
      "  2%|▏         | 80/5000 [00:10<09:57,  8.23it/s]\n",
      "  0%|          | 0/10000 [00:00<?, ?it/s]\u001B[A\n",
      "100%|██████████| 10000/10000 [00:00<00:00, 89376.48it/s][A\n",
      "  2%|▏         | 81/5000 [00:11<09:47,  8.37it/s]\n",
      "  0%|          | 0/10000 [00:00<?, ?it/s]\u001B[A\n",
      "100%|██████████| 10000/10000 [00:00<00:00, 96430.09it/s][A\n",
      "  2%|▏         | 82/5000 [00:11<09:25,  8.69it/s]\n",
      "  0%|          | 0/10000 [00:00<?, ?it/s]\u001B[A\n",
      "100%|██████████| 10000/10000 [00:00<00:00, 77388.97it/s][A\n",
      "  2%|▏         | 83/5000 [00:11<09:52,  8.30it/s]\n",
      "  0%|          | 0/10000 [00:00<?, ?it/s]\u001B[A\n",
      "100%|██████████| 10000/10000 [00:00<00:00, 85423.71it/s][A\n",
      "  2%|▏         | 84/5000 [00:11<09:50,  8.33it/s]\n",
      "  0%|          | 0/10000 [00:00<?, ?it/s]\u001B[A\n",
      "100%|██████████| 10000/10000 [00:00<00:00, 93485.76it/s][A\n",
      "  2%|▏         | 85/5000 [00:11<09:35,  8.54it/s]\n",
      "  0%|          | 0/10000 [00:00<?, ?it/s]\u001B[A\n",
      "100%|██████████| 10000/10000 [00:00<00:00, 86438.97it/s][A\n",
      "  2%|▏         | 86/5000 [00:11<09:36,  8.53it/s]\n",
      "  0%|          | 0/10000 [00:00<?, ?it/s]\u001B[A\n",
      "100%|██████████| 10000/10000 [00:00<00:00, 70880.50it/s][A\n",
      "  2%|▏         | 87/5000 [00:11<10:15,  7.98it/s]\n",
      "  0%|          | 0/10000 [00:00<?, ?it/s]\u001B[A\n",
      "100%|██████████| 10000/10000 [00:00<00:00, 84684.49it/s][A\n",
      "  2%|▏         | 88/5000 [00:11<10:09,  8.06it/s]\n",
      "  0%|          | 0/10000 [00:00<?, ?it/s]\u001B[A\n",
      "100%|██████████| 10000/10000 [00:00<00:00, 84982.01it/s][A\n",
      "  2%|▏         | 89/5000 [00:12<10:05,  8.11it/s]\n",
      "  0%|          | 0/10000 [00:00<?, ?it/s]\u001B[A\n",
      "100%|██████████| 10000/10000 [00:00<00:00, 71525.96it/s][A\n",
      "  2%|▏         | 90/5000 [00:12<10:32,  7.76it/s]\n",
      "  0%|          | 0/10000 [00:00<?, ?it/s]\u001B[A\n",
      "100%|██████████| 10000/10000 [00:00<00:00, 85535.55it/s][A\n",
      "  2%|▏         | 91/5000 [00:12<10:16,  7.96it/s]\n",
      "  0%|          | 0/10000 [00:00<?, ?it/s]\u001B[A\n",
      "100%|██████████| 10000/10000 [00:00<00:00, 74111.38it/s][A\n",
      "  2%|▏         | 92/5000 [00:12<10:34,  7.74it/s]\n",
      "  0%|          | 0/10000 [00:00<?, ?it/s]\u001B[A\n",
      "100%|██████████| 10000/10000 [00:00<00:00, 84255.96it/s][A\n",
      "  2%|▏         | 93/5000 [00:12<10:20,  7.91it/s]\n",
      "  0%|          | 0/10000 [00:00<?, ?it/s]\u001B[A\n",
      "100%|██████████| 10000/10000 [00:00<00:00, 91113.18it/s][A\n",
      "  2%|▏         | 94/5000 [00:12<09:58,  8.20it/s]\n",
      "  0%|          | 0/10000 [00:00<?, ?it/s]\u001B[A\n",
      "100%|██████████| 10000/10000 [00:00<00:00, 85006.47it/s][A\n",
      "  2%|▏         | 95/5000 [00:12<09:54,  8.24it/s]\n",
      "  0%|          | 0/10000 [00:00<?, ?it/s]\u001B[A\n",
      "100%|██████████| 10000/10000 [00:00<00:00, 93316.87it/s][A\n",
      "  2%|▏         | 96/5000 [00:12<09:38,  8.48it/s]\n",
      "  0%|          | 0/10000 [00:00<?, ?it/s]\u001B[A\n",
      "100%|██████████| 10000/10000 [00:00<00:00, 90082.11it/s][A\n",
      "  2%|▏         | 97/5000 [00:13<09:32,  8.57it/s]\n",
      "  0%|          | 0/10000 [00:00<?, ?it/s]\u001B[A\n",
      "100%|██████████| 10000/10000 [00:00<00:00, 94331.18it/s][A\n",
      "  2%|▏         | 98/5000 [00:13<09:20,  8.74it/s]\n",
      "  0%|          | 0/10000 [00:00<?, ?it/s]\u001B[A\n",
      "100%|██████████| 10000/10000 [00:00<00:00, 90303.98it/s][A\n",
      "  2%|▏         | 99/5000 [00:13<09:18,  8.77it/s]\n",
      "  0%|          | 0/10000 [00:00<?, ?it/s]\u001B[A\n",
      "100%|██████████| 10000/10000 [00:00<00:00, 89601.97it/s][A\n",
      "  2%|▏         | 100/5000 [00:13<09:19,  8.76it/s]\n",
      "  0%|          | 0/10000 [00:00<?, ?it/s]\u001B[A\n",
      "100%|██████████| 10000/10000 [00:00<00:00, 79037.90it/s][A\n",
      "  2%|▏         | 101/5000 [00:13<09:40,  8.44it/s]\n",
      "  0%|          | 0/10000 [00:00<?, ?it/s]\u001B[A\n",
      "100%|██████████| 10000/10000 [00:00<00:00, 85342.88it/s][A\n",
      "  2%|▏         | 102/5000 [00:13<09:42,  8.40it/s]\n",
      " 10%|█         | 1021/10000 [00:00<00:00, 85111.49it/s]\n",
      "  2%|▏         | 102/5000 [00:13<10:55,  7.48it/s]\n"
     ]
    },
    {
     "ename": "KeyboardInterrupt",
     "evalue": "",
     "output_type": "error",
     "traceback": [
      "\u001B[1;31m---------------------------------------------------------------------------\u001B[0m",
      "\u001B[1;31mKeyboardInterrupt\u001B[0m                         Traceback (most recent call last)",
      "Cell \u001B[1;32mIn[6], line 8\u001B[0m\n\u001B[0;32m      5\u001B[0m times \u001B[38;5;241m=\u001B[39m \u001B[38;5;241m10000\u001B[39m\n\u001B[0;32m      7\u001B[0m \u001B[38;5;66;03m# Simulate optimal action counts and rewards\u001B[39;00m\n\u001B[1;32m----> 8\u001B[0m optimal_actions_mean, rewards_mean \u001B[38;5;241m=\u001B[39m \u001B[43msimulate\u001B[49m\u001B[43m(\u001B[49m\u001B[43mruns\u001B[49m\u001B[43m,\u001B[49m\u001B[43m \u001B[49m\u001B[43mtimes\u001B[49m\u001B[43m,\u001B[49m\u001B[43m \u001B[49m\u001B[43mbandits\u001B[49m\u001B[43m)\u001B[49m\n\u001B[0;32m     10\u001B[0m \u001B[38;5;28mprint\u001B[39m(\u001B[38;5;124m\"\u001B[39m\u001B[38;5;124mOptimal Actions Mean:\u001B[39m\u001B[38;5;124m\"\u001B[39m, optimal_actions_mean)\n\u001B[0;32m     11\u001B[0m \u001B[38;5;28mprint\u001B[39m(\u001B[38;5;124m\"\u001B[39m\u001B[38;5;124mRewards Mean:\u001B[39m\u001B[38;5;124m\"\u001B[39m, rewards_mean)\n",
      "Cell \u001B[1;32mIn[3], line 33\u001B[0m, in \u001B[0;36msimulate\u001B[1;34m(runs, times, bandits)\u001B[0m\n\u001B[0;32m     29\u001B[0m \u001B[38;5;66;03m# for every time step\u001B[39;00m\n\u001B[0;32m     30\u001B[0m \u001B[38;5;28;01mfor\u001B[39;00m time \u001B[38;5;129;01min\u001B[39;00m trange(times):\n\u001B[0;32m     31\u001B[0m \n\u001B[0;32m     32\u001B[0m     \u001B[38;5;66;03m# select an action\u001B[39;00m\n\u001B[1;32m---> 33\u001B[0m     action \u001B[38;5;241m=\u001B[39m \u001B[43mbandit\u001B[49m\u001B[38;5;241;43m.\u001B[39;49m\u001B[43mact\u001B[49m\u001B[43m(\u001B[49m\u001B[43m)\u001B[49m\n\u001B[0;32m     35\u001B[0m     \u001B[38;5;66;03m# get the reward\u001B[39;00m\n\u001B[0;32m     36\u001B[0m     rewards[i, run, time] \u001B[38;5;241m=\u001B[39m bandit\u001B[38;5;241m.\u001B[39mstep(action)\n",
      "File \u001B[1;32m~\\PycharmProjects\\Reinforcement_Learning_NPUA\\ten-armed-bandit\\src\\banditt.py:149\u001B[0m, in \u001B[0;36mBandit.act\u001B[1;34m(self)\u001B[0m\n\u001B[0;32m    141\u001B[0m     \u001B[38;5;28;01mreturn\u001B[39;00m np\u001B[38;5;241m.\u001B[39mrandom\u001B[38;5;241m.\u001B[39mchoice(\u001B[38;5;28mself\u001B[39m\u001B[38;5;241m.\u001B[39mactions)\n\u001B[0;32m    143\u001B[0m \u001B[38;5;66;03m# endregion ε-greedy\u001B[39;00m\n\u001B[0;32m    144\u001B[0m \n\u001B[0;32m    145\u001B[0m \u001B[38;5;66;03m# region Greedy\u001B[39;00m\n\u001B[0;32m    146\u001B[0m \n\u001B[0;32m    147\u001B[0m \u001B[38;5;66;03m# Greedy action selection: select one of the actions with the highest estimated value, that is, one of the greedy actions.\u001B[39;00m\n\u001B[0;32m    148\u001B[0m \u001B[38;5;66;03m# If there is more than one greedy action, then a selection is made among them in some arbitrary way, perhaps randomly.\u001B[39;00m\n\u001B[1;32m--> 149\u001B[0m action \u001B[38;5;241m=\u001B[39m \u001B[43mnp\u001B[49m\u001B[38;5;241;43m.\u001B[39;49m\u001B[43mrandom\u001B[49m\u001B[38;5;241;43m.\u001B[39;49m\u001B[43mchoice\u001B[49m\u001B[43m(\u001B[49m\u001B[43mnp\u001B[49m\u001B[38;5;241;43m.\u001B[39;49m\u001B[43mwhere\u001B[49m\u001B[43m(\u001B[49m\u001B[38;5;28;43mself\u001B[39;49m\u001B[38;5;241;43m.\u001B[39;49m\u001B[43mestimated_action_values\u001B[49m\u001B[43m \u001B[49m\u001B[38;5;241;43m==\u001B[39;49m\u001B[43m \u001B[49m\u001B[43mnp\u001B[49m\u001B[38;5;241;43m.\u001B[39;49m\u001B[43mmax\u001B[49m\u001B[43m(\u001B[49m\u001B[38;5;28;43mself\u001B[39;49m\u001B[38;5;241;43m.\u001B[39;49m\u001B[43mestimated_action_values\u001B[49m\u001B[43m)\u001B[49m\u001B[43m)\u001B[49m\u001B[43m[\u001B[49m\u001B[38;5;241;43m0\u001B[39;49m\u001B[43m]\u001B[49m\u001B[43m)\u001B[49m\n\u001B[0;32m    150\u001B[0m \u001B[38;5;28;01mreturn\u001B[39;00m action\n",
      "\u001B[1;31mKeyboardInterrupt\u001B[0m: "
     ]
    }
   ],
   "execution_count": 6
  },
  {
   "cell_type": "code",
   "source": [
    "# Plotting\n",
    "plt.figure(figsize=(10, 20))"
   ],
   "metadata": {
    "collapsed": false,
    "ExecuteTime": {
     "end_time": "2025-03-01T09:48:11.776964300Z",
     "start_time": "2025-02-27T04:06:26.558649Z"
    }
   },
   "id": "e1a86ca5f4aefa2",
   "outputs": [
    {
     "data": {
      "text/plain": [
       "<Figure size 1000x2000 with 0 Axes>"
      ]
     },
     "execution_count": 25,
     "metadata": {},
     "output_type": "execute_result"
    }
   ],
   "execution_count": 25
  },
  {
   "cell_type": "code",
   "source": [
    "# Plot average rewards over time\n",
    "plt.subplot(2, 1, 1)\n",
    "for epsilon, rewards in zip(epsilons, rewards_mean):  # Use epsilons and rewards_mean\n",
    "    plt.plot(rewards, label=fr\"$\\epsilon = {epsilon:.2f}$\")\n",
    "plt.title(\"Figure 2.2: Average Reward Over Time\")\n",
    "plt.xlabel(\"Steps\")\n",
    "plt.ylabel(\"Average Reward\")\n",
    "plt.legend()\n",
    "plt.grid(True)"
   ],
   "metadata": {
    "collapsed": false,
    "ExecuteTime": {
     "end_time": "2025-03-01T09:48:11.819964700Z",
     "start_time": "2025-02-27T04:06:29.132564Z"
    }
   },
   "id": "5536109f4e591e72",
   "outputs": [],
   "execution_count": 26
  },
  {
   "cell_type": "code",
   "source": [
    "plt.subplot(2, 1, 2)\n",
    "for epsilon, counts in zip(epsilons, optimal_actions_mean):\n",
    "    plt.plot(counts, label=fr\"$\\epsilon = {epsilon:.2f}$\")\n",
    "plt.title(\"Figure 2.3: Optimal Actions Over Time\")\n",
    "plt.xlabel(\"Steps\")\n",
    "plt.ylabel(\"% Optimal action\")\n",
    "plt.legend()\n",
    "plt.grid(True)"
   ],
   "metadata": {
    "collapsed": false,
    "ExecuteTime": {
     "end_time": "2025-03-01T09:48:11.856477700Z",
     "start_time": "2025-02-27T04:06:29.575428Z"
    }
   },
   "id": "2e6157d53f01223f",
   "outputs": [],
   "execution_count": 27
  },
  {
   "metadata": {
    "ExecuteTime": {
     "end_time": "2025-03-01T09:48:11.881316300Z",
     "start_time": "2025-02-27T04:06:29.763117Z"
    }
   },
   "cell_type": "code",
   "source": [
    "plt.savefig(\"../generated_images/figure_2_2.png\")\n",
    "plt.close()  # Close the plot to free up memory\n",
    "\n",
    "# Print success message\n",
    "print(\"Plot saved successfully at: ../generated_images/figure_2_2.png\")"
   ],
   "id": "f31851f9d0c7be7d",
   "outputs": [
    {
     "name": "stdout",
     "output_type": "stream",
     "text": [
      "Plot saved successfully at: ../generated_images/figure_2_2.png\n"
     ]
    }
   ],
   "execution_count": 28
  },
  {
   "cell_type": "markdown",
   "source": [
    "## 3. Optimistic Initial Values VS Realistic Initial Values"
   ],
   "metadata": {
    "collapsed": false
   },
   "id": "a0c5945f58dd0dee"
  },
  {
   "cell_type": "code",
   "source": [
    "# Create a list of 2 bandits where:\n",
    "# 1. 1st bandit: ε = 0, 𝑄_1(𝑎) = 5, 𝛼 = 0.1,\n",
    "# 2. 2nd bandit: ε = 0.1, 𝑄_1(𝑎) = 0, 𝛼 = 0.1\n"
   ],
   "metadata": {
    "collapsed": false,
    "is_executing": true,
    "ExecuteTime": {
     "end_time": "2025-03-01T09:48:11.885290100Z",
     "start_time": "2025-02-27T04:06:30.192740Z"
    }
   },
   "id": "50d647979ced258a",
   "outputs": [],
   "execution_count": 29
  },
  {
   "cell_type": "code",
   "source": [
    "# Define number of runs\n",
    "\n",
    "\n",
    "# Define number of times\n",
    "\n",
    "\n",
    "# Simulate optimal action counts\n"
   ],
   "metadata": {
    "collapsed": false,
    "ExecuteTime": {
     "end_time": "2025-03-01T09:48:11.892304900Z",
     "start_time": "2025-02-27T04:06:30.212232Z"
    }
   },
   "id": "3116e78a4c90c435",
   "outputs": [],
   "execution_count": 30
  },
  {
   "cell_type": "code",
   "source": [
    "# Plotting\n"
   ],
   "metadata": {
    "collapsed": false,
    "ExecuteTime": {
     "end_time": "2025-03-01T09:48:11.892304900Z",
     "start_time": "2025-02-27T04:06:30.235079Z"
    }
   },
   "id": "d1ae633f8632eed5",
   "outputs": [],
   "execution_count": 31
  },
  {
   "cell_type": "markdown",
   "source": [
    "## 4. Upper-Confidence-Bound (UCB) Action Selection"
   ],
   "metadata": {
    "collapsed": false
   },
   "id": "7473708c239f1d0"
  },
  {
   "cell_type": "code",
   "source": [
    "# Create a list of 2 bandits where:\n",
    "# 1. 1st bandit: ε = 0, 𝑐 = 2, uses sample-average method,\n",
    "# 2. 2nd bandit: ε = 0.1, uses sample-average method\n"
   ],
   "metadata": {
    "collapsed": false,
    "ExecuteTime": {
     "end_time": "2025-03-01T09:48:11.893290400Z",
     "start_time": "2025-02-27T04:06:30.263187Z"
    }
   },
   "id": "1993531b4fe5feb2",
   "outputs": [],
   "execution_count": 32
  },
  {
   "cell_type": "code",
   "source": [
    "# Define number of runs\n",
    "\n",
    "\n",
    "# Define number of times\n",
    "\n",
    "\n",
    "# Simulate average rewards\n"
   ],
   "metadata": {
    "collapsed": false,
    "ExecuteTime": {
     "end_time": "2025-03-01T09:48:11.893290400Z",
     "start_time": "2025-02-27T04:06:30.296782Z"
    }
   },
   "id": "6e1fed28f6812c2e",
   "outputs": [],
   "execution_count": 33
  },
  {
   "cell_type": "code",
   "source": [
    "# Plotting\n"
   ],
   "metadata": {
    "collapsed": false,
    "ExecuteTime": {
     "end_time": "2025-03-01T09:48:11.893290400Z",
     "start_time": "2025-02-27T04:06:30.321674Z"
    }
   },
   "id": "9d4db60f0153c024",
   "outputs": [],
   "execution_count": 34
  },
  {
   "cell_type": "markdown",
   "source": [
    "## 5. Gradient Bandit Algorithms (GBA)"
   ],
   "metadata": {
    "collapsed": false
   },
   "id": "b5cb31b7d224bbba"
  },
  {
   "cell_type": "code",
   "source": [
    "# Create a list of 4 bandits where:\n",
    "# 1. 1st bandit: uses GBA, 𝛼 = 0.1, uses average reward as baseline for GBA, expects true reward of 4,\n",
    "# 2. 2nd bandit: uses GBA, 𝛼 = 0.1, doesn't use average reward as baseline for GBA, expects true reward of 4,\n",
    "# 3. 3rd bandit: uses GBA, 𝛼 = 0.4, uses average reward as baseline for GBA, expects true reward of 4,\n",
    "# 4. 4th bandit: uses GBA, 𝛼 = 0.4, doesn't use average reward as baseline for GBA, expects true reward of 4\n"
   ],
   "metadata": {
    "collapsed": false,
    "ExecuteTime": {
     "end_time": "2025-03-01T09:48:11.894289600Z",
     "start_time": "2025-02-27T04:06:30.331612Z"
    }
   },
   "id": "1453e8fb0e6a32f6",
   "outputs": [],
   "execution_count": 35
  },
  {
   "cell_type": "code",
   "source": [
    "# Define number of runs\n",
    "\n",
    "\n",
    "# Define number of times\n",
    "\n",
    "\n",
    "# Simulate optimal action counts\\\n"
   ],
   "metadata": {
    "collapsed": false,
    "ExecuteTime": {
     "end_time": "2025-03-01T09:48:11.894289600Z",
     "start_time": "2025-02-27T04:06:30.345519Z"
    }
   },
   "id": "79a2acb7e523f0a8",
   "outputs": [],
   "execution_count": 36
  },
  {
   "cell_type": "code",
   "source": [
    "# Labels\n"
   ],
   "metadata": {
    "collapsed": false,
    "ExecuteTime": {
     "end_time": "2025-03-01T09:48:11.894289600Z",
     "start_time": "2025-02-27T04:06:30.360846Z"
    }
   },
   "id": "67282242fae58cb9",
   "outputs": [],
   "execution_count": 37
  },
  {
   "cell_type": "code",
   "source": [
    "# Plotting\n"
   ],
   "metadata": {
    "collapsed": false,
    "ExecuteTime": {
     "end_time": "2025-03-01T09:48:11.895290Z",
     "start_time": "2025-02-27T04:06:30.378088Z"
    }
   },
   "id": "2281e1a4dc8f1b9c",
   "outputs": [],
   "execution_count": 38
  },
  {
   "cell_type": "code",
   "source": [],
   "metadata": {
    "collapsed": false,
    "ExecuteTime": {
     "end_time": "2025-03-01T09:48:11.895290Z",
     "start_time": "2025-02-27T04:06:30.395205Z"
    }
   },
   "id": "974417449ca9770c",
   "outputs": [],
   "execution_count": null
  }
 ],
 "metadata": {
  "kernelspec": {
   "display_name": "Python 3",
   "language": "python",
   "name": "python3"
  },
  "language_info": {
   "codemirror_mode": {
    "name": "ipython",
    "version": 2
   },
   "file_extension": ".py",
   "mimetype": "text/x-python",
   "name": "python",
   "nbconvert_exporter": "python",
   "pygments_lexer": "ipython2",
   "version": "2.7.6"
  }
 },
 "nbformat": 4,
 "nbformat_minor": 5
}
